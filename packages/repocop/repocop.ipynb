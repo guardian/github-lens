{
 "cells": [
  {
   "cell_type": "markdown",
   "metadata": {},
   "source": [
    "This notebook is to run some exploratory work on the cloudquery database in a code-based (crucially, unit testable) way."
   ]
  },
  {
   "cell_type": "code",
   "execution_count": 2,
   "metadata": {
    "collapsed": false
   },
   "outputs": [],
   "source": [
    "import boto3\n",
    "import psycopg2 as ps\n",
    "import json\n",
    "import sqlalchemy as sa\n",
    "import pandas as pd\n",
    "\n",
    "REGION=\"eu-west-1\"\n",
    "\n",
    "#gets the credentials from .aws/credentials\n",
    "session = boto3.Session(profile_name='deployTools')\n",
    "\n",
    "#get secret\n",
    "secret_client = session.client('secretsmanager', REGION)\n",
    "paginator = secret_client.get_paginator('list_secrets')\n",
    "\n",
    "response_iterator = paginator.paginate(\n",
    "    Filters=[\n",
    "        {\n",
    "            'Key': 'tag-value',\n",
    "            'Values': [\n",
    "                'cloud-query' #App\n",
    "            ]\n",
    "        }\n",
    "    ]\n",
    ")\n",
    "secret_arn = list(response_iterator)[0][\"SecretList\"][0]['ARN']\n",
    "secret = secret_client.get_secret_value(\n",
    "    SecretId=secret_arn\n",
    ")[\"SecretString\"]\n",
    "\n",
    "secret_json = json.loads(secret)"
   ]
  },
  {
   "cell_type": "code",
   "execution_count": 3,
   "metadata": {},
   "outputs": [],
   "source": [
    "import sqlalchemy as sa\n",
    "\n",
    "import psycopg2 as ps\n",
    "import pandas as pd\n",
    "import boto3\n",
    "\n",
    "conn = ps.connect(\n",
    "    host=secret_json['host'],\n",
    "    port=secret_json['port'],\n",
    "    dbname='',\n",
    "    user=secret_json['username'],\n",
    "    password=secret_json['password'])\n",
    "\n",
    "engine = sa.create_engine('postgresql://', creator=lambda: conn)\n",
    "\n",
    "def select(table_name:str, columns: list[str], db_engine = engine) -> pd.DataFrame:\n",
    "    return pd.read_sql_table(table_name, con=db_engine, columns=columns)"
   ]
  },
  {
   "cell_type": "code",
   "execution_count": 4,
   "metadata": {
    "collapsed": false
   },
   "outputs": [
    {
     "name": "stdout",
     "output_type": "stream",
     "text": [
      "['production', 'testing', 'documentation', 'prototype', 'hackday', 'learning']\n"
     ]
    }
   ],
   "source": [
    "\n",
    "topics_df = select(\"guardian_production_status\", ['status', 'priority'])\n",
    "topics_list = topics_df['status'].tolist()\n",
    "print(topics_df['status'].tolist())"
   ]
  },
  {
   "cell_type": "code",
   "execution_count": 5,
   "metadata": {
    "collapsed": false
   },
   "outputs": [
    {
     "name": "stderr",
     "output_type": "stream",
     "text": [
      "/var/folders/2f/pz51c1qs4fj3srjpfrj301d00000gp/T/ipykernel_4855/2319245488.py:5: UserWarning: pandas only supports SQLAlchemy connectable (engine/connection) or database string URI or sqlite3 DBAPI2 connection. Other DBAPI2 objects are not tested. Please consider using SQLAlchemy.\n",
      "  ownership_df = pd.read_sql_query(\"select repo_name, github_team_name, github_team_id from view_repo_ownership\", con=conn)\n"
     ]
    }
   ],
   "source": [
    "\n",
    "non_pe_teams_list = select('guardian_non_p_and_e_github_teams', ['team_name'])['team_name'].tolist()\n",
    "topics_df = select(\"github_repositories\", ['full_name', 'topics'])\n",
    "teams_df = select('github_teams', ['name', 'slug'])\n",
    "#select function doesn't work on views, so we have to use read_sql_query\n",
    "ownership_df = pd.read_sql_query(\"select repo_name, github_team_name, github_team_id from view_repo_ownership\", con=conn)\n",
    "new_df = ownership_df.merge(teams_df, how='left', left_on='github_team_name', right_on='name')[['repo_name', 'github_team_name', 'slug']]\n"
   ]
  },
  {
   "cell_type": "code",
   "execution_count": 6,
   "metadata": {
    "collapsed": false
   },
   "outputs": [
    {
     "data": {
      "text/plain": [
       "array([<Axes: ylabel='count'>], dtype=object)"
      ]
     },
     "execution_count": 6,
     "metadata": {},
     "output_type": "execute_result"
    },
    {
     "data": {
      "image/png": "[encoded data removed]",
      "text/plain": [
       "<Figure size 1100x600 with 1 Axes>"
      ]
     },
     "metadata": {},
     "output_type": "display_data"
    }
   ],
   "source": [
    "from rules import github_06\n",
    "topic_rule_df = github_06(new_df, topics_df, topics_list, non_pe_teams_list)\n",
    "freq = topic_rule_df['github_06'].value_counts()\n",
    "freq.plot.pie(subplots=True, figsize=(11, 6), title='Repo has an appropriate topic or is owned by a non-P&E team')"
   ]
  },
  {
   "cell_type": "code",
   "execution_count": 7,
   "metadata": {
    "collapsed": false
   },
   "outputs": [
    {
     "ename": "ModuleNotFoundError",
     "evalue": "No module named 'ipywidgets'",
     "output_type": "error",
     "traceback": [
      "\u001b[0;31m---------------------------------------------------------------------------\u001b[0m",
      "\u001b[0;31mModuleNotFoundError\u001b[0m                       Traceback (most recent call last)",
      "Cell \u001b[0;32mIn[7], line 1\u001b[0m\n\u001b[0;32m----> 1\u001b[0m \u001b[39mimport\u001b[39;00m \u001b[39mipywidgets\u001b[39;00m \u001b[39mas\u001b[39;00m \u001b[39mwidgets\u001b[39;00m\n\u001b[1;32m      3\u001b[0m selected_topics \u001b[39m=\u001b[39m widgets\u001b[39m.\u001b[39mSelectMultiple(\n\u001b[1;32m      4\u001b[0m     options\u001b[39m=\u001b[39mtopics_list,\n\u001b[1;32m      5\u001b[0m     description\u001b[39m=\u001b[39m\u001b[39m'\u001b[39m\u001b[39mTopics\u001b[39m\u001b[39m'\u001b[39m,\n\u001b[1;32m      6\u001b[0m )\n\u001b[1;32m      8\u001b[0m selected_topics\n",
      "\u001b[0;31mModuleNotFoundError\u001b[0m: No module named 'ipywidgets'"
     ]
    }
   ],
   "source": [
    "import ipywidgets as widgets\n",
    "\n",
    "selected_topics = widgets.SelectMultiple(\n",
    "    options=topics_list,\n",
    "    description='Topics',\n",
    ")\n",
    "\n",
    "selected_topics"
   ]
  },
  {
   "cell_type": "code",
   "execution_count": null,
   "metadata": {
    "collapsed": false
   },
   "outputs": [],
   "source": [
    "freq = ownership_df['github_team_name'].value_counts()\n",
    "freq"
   ]
  },
  {
   "cell_type": "code",
   "execution_count": null,
   "metadata": {
    "collapsed": false
   },
   "outputs": [],
   "source": [
    "import matplotlib.pyplot as plt\n",
    "freq[:15].plot(kind='bar', title='Frequency Count of team name', xlabel='team name', ylabel='Count')\n",
    "plt.show()"
   ]
  },
  {
   "cell_type": "code",
   "execution_count": null,
   "metadata": {
    "collapsed": false
   },
   "outputs": [],
   "source": [
    "list(selected_topics.value)"
   ]
  },
  {
   "cell_type": "code",
   "execution_count": null,
   "metadata": {
    "collapsed": false
   },
   "outputs": [],
   "source": []
  },
  {
   "cell_type": "code",
   "execution_count": null,
   "metadata": {
    "ExecuteTime": {
     "end_time": "2023-08-11T10:36:46.337454Z",
     "start_time": "2023-08-11T10:36:45.763004Z"
    },
    "collapsed": false
   },
   "outputs": [],
   "source": [
    "\n",
    "topics_df = select(\"guardian_production_status\", ['status', 'priority'])\n",
    "topics_list = topics_df['status'].tolist()\n",
    "print(topics_df['status'].tolist())"
   ]
  },
  {
   "cell_type": "code",
   "execution_count": null,
   "metadata": {
    "ExecuteTime": {
     "end_time": "2023-08-11T10:39:26.289163Z",
     "start_time": "2023-08-11T10:39:24.626406Z"
    },
    "collapsed": false
   },
   "outputs": [],
   "source": [
    "\n",
    "non_pe_teams_list = select('guardian_non_p_and_e_github_teams', ['team_name'])['team_name'].tolist()\n",
    "topics_df = select(\"github_repositories\", ['full_name', 'topics'])\n",
    "teams_df = select('github_teams', ['name', 'slug'])\n",
    "#select function doesn't work on views, so we have to use read_sql_query\n",
    "ownership_df = pd.read_sql_query(\"select repo_name, github_team_name, github_team_id from view_repo_ownership\", con=conn)\n",
    "new_df = ownership_df.merge(teams_df, how='left', left_on='github_team_name', right_on='name')[['repo_name', 'github_team_name', 'slug']]\n"
   ]
  },
  {
   "cell_type": "code",
   "execution_count": null,
   "metadata": {
    "ExecuteTime": {
     "end_time": "2023-08-11T12:08:51.244915Z",
     "start_time": "2023-08-11T12:08:51.160215Z"
    },
    "collapsed": false
   },
   "outputs": [],
   "source": [
    "from rules import github_06\n",
    "topic_rule_df = github_06(new_df, topics_df, topics_list, non_pe_teams_list)\n",
    "freq = topic_rule_df['github_06'].value_counts()\n",
    "freq.plot.pie(subplots=True, figsize=(11, 6), title='Repo has an appropriate topic or is owned by a non-P&E team')"
   ]
  },
  {
   "cell_type": "code",
   "execution_count": null,
   "metadata": {
    "ExecuteTime": {
     "end_time": "2023-08-11T09:05:51.493506Z",
     "start_time": "2023-08-11T09:05:51.474420Z"
    },
    "collapsed": false
   },
   "outputs": [],
   "source": [
    "import ipywidgets as widgets\n",
    "\n",
    "selected_topics = widgets.SelectMultiple(\n",
    "    options=topics_list,\n",
    "    description='Topics',\n",
    ")\n",
    "\n",
    "selected_topics"
   ]
  },
  {
   "cell_type": "code",
   "execution_count": null,
   "metadata": {
    "ExecuteTime": {
     "end_time": "2023-08-11T09:06:46.858230Z",
     "start_time": "2023-08-11T09:06:46.838348Z"
    },
    "collapsed": false
   },
   "outputs": [],
   "source": [
    "freq = ownership_df['github_team_name'].value_counts()\n",
    "freq"
   ]
  },
  {
   "cell_type": "code",
   "execution_count": null,
   "metadata": {
    "ExecuteTime": {
     "end_time": "2023-08-11T09:06:50.250427Z",
     "start_time": "2023-08-11T09:06:50.158275Z"
    },
    "collapsed": false
   },
   "outputs": [],
   "source": [
    "import matplotlib.pyplot as plt\n",
    "freq[:15].plot(kind='bar', title='Frequency Count of team name', xlabel='team name', ylabel='Count')\n",
    "plt.show()"
   ]
  },
  {
   "cell_type": "code",
   "execution_count": null,
   "metadata": {
    "ExecuteTime": {
     "end_time": "2023-08-11T09:05:51.704577Z",
     "start_time": "2023-08-11T09:05:51.701462Z"
    },
    "collapsed": false
   },
   "outputs": [],
   "source": [
    "list(selected_topics.value)"
   ]
  },
  {
   "cell_type": "code",
   "execution_count": null,
   "metadata": {
    "ExecuteTime": {
     "end_time": "2023-08-11T09:05:51.706364Z",
     "start_time": "2023-08-11T09:05:51.704372Z"
    },
    "collapsed": false
   },
   "outputs": [],
   "source": []
  }
 ],
 "metadata": {
  "kernelspec": {
   "display_name": "Python 3 (ipykernel)",
   "language": "python",
   "name": "python3"
  },
  "language_info": {
   "codemirror_mode": {
    "name": "ipython",
    "version": 3
   },
   "file_extension": ".py",
   "mimetype": "text/x-python",
   "name": "python",
   "nbconvert_exporter": "python",
   "pygments_lexer": "ipython3",
   "version": "3.11.4"
  },
  "orig_nbformat": 4
 },
 "nbformat": 4,
 "nbformat_minor": 2
}
