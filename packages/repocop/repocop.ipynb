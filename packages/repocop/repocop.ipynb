{
 "cells": [
  {
   "cell_type": "markdown",
   "metadata": {},
   "source": [
    "## Repocop prototyping notebook\n",
    "\n",
    "> **Warning**\n",
    "> This notebook writes to the cloudquery database. Proceed with extreme caution\n",
    "\n",
    "> **Warning**\n",
    "> Please clear all your outputs and restart the kernel before committing\n",
    "\n",
    "### Prerequisites\n",
    "- Have deployTools credentials\n",
    "- Be connected to the VPN\n",
    "\n",
    "### Summary\n",
    "This notebook connects to the cloudquery database, evaluates resources (aka github repositories) against best practice rules for those resources, and writes the information as a table back to the db, so other tools can use the information to notify teams about actions they need to take."
   ]
  },
  {
   "cell_type": "code",
   "execution_count": null,
   "metadata": {},
   "outputs": [],
   "source": [
    "import sqlalchemy as sa\n",
    "import boto3\n",
    "from database_interactions import connect_to_db\n",
    "\n",
    "#create the database connection\n",
    "session = boto3.Session(profile_name='deployTools')\n",
    "conn = connect_to_db(session)\n",
    "engine = sa.create_engine('postgresql://', creator=lambda: conn)"
   ]
  },
  {
   "cell_type": "markdown",
   "metadata": {},
   "source": [
    "Here we create our first intermediate dataframe, assessing rule REPOSITORY-01, which says that the default branch for all repositories should be main.\n",
    "\n",
    "n.b. we have not yet exempted archived repositories from any of these rulesets in code. A decision about where to deal with those has yet to be made"
   ]
  },
  {
   "cell_type": "code",
   "execution_count": null,
   "metadata": {},
   "outputs": [],
   "source": [
    "from database_interactions import select\n",
    "import pandas as pd\n",
    "\n",
    "#default_branch_df needs to be a dataframe with the following columns:\n",
    "# - full_name (string)\n",
    "# - default_branch (string)\n",
    "def repository_01(default_branch_df: pd.DataFrame) -> pd.DataFrame:\n",
    "    \"\"\"Repository 01: Default branch should be main\"\"\"\n",
    "    default_branch_df['repository_01'] = default_branch_df['default_branch'] == 'main'\n",
    "    return default_branch_df[['full_name', 'repository_01']]\n"
   ]
  },
  {
   "cell_type": "code",
   "execution_count": null,
   "metadata": {},
   "outputs": [],
   "source": [
    "default_branch_df = select('github_repositories',['full_name', 'default_branch'], engine) #this includes archived repos. make a decision about this\n",
    "repository_01_df = repository_01(default_branch_df)\n",
    "repository_01_df.head()"
   ]
  },
  {
   "cell_type": "markdown",
   "metadata": {},
   "source": [
    "Here we asses rule REPOSITORY_06, which is significantly more complicated. It states that all repositories owned by one or more P+E teams require a valid production status topic. Repos owned exlusively by teams outside of P+E are exempt from this requirement. The most common example of this is interactives repositories.\n",
    "\n",
    "Production statuses recognised by DevX are enumerated in the `guardian_production_status` table."
   ]
  },
  {
   "cell_type": "code",
   "execution_count": null,
   "metadata": {
    "collapsed": false
   },
   "outputs": [],
   "source": [
    "from rules import repository_06\n",
    "\n",
    "#gather all the required data for repository_06\n",
    "valid_topics_df = select('guardian_production_status', ['status', 'priority'], engine)\n",
    "topics_list = valid_topics_df['status'].tolist()\n",
    "non_pe_teams_list = select('guardian_non_p_and_e_github_teams', ['team_name'], engine)['team_name'].tolist()\n",
    "topics_df = select('github_repositories', ['full_name', 'topics'], engine)\n",
    "teams_df = select('github_teams', ['name', 'slug'], engine)\n",
    "#select function doesn't work on views, so we have to use read_sql_query\n",
    "ownership_df = pd.read_sql_query(\"select repo_name, github_team_name, github_team_id from view_repo_ownership\", con=conn)\n",
    "ownership_df = ownership_df.merge(teams_df, how='left', left_on='github_team_name', right_on='name')[['repo_name', 'github_team_name', 'slug']]"
   ]
  },
  {
   "cell_type": "code",
   "execution_count": null,
   "metadata": {
    "collapsed": false
   },
   "outputs": [],
   "source": [
    "import matplotlib.pyplot as plt\n",
    "freq = ownership_df['github_team_name'].value_counts()\n",
    "freq[:15].plot(kind='bar', title='Teams that own the most repos', xlabel='team name', ylabel='Count')\n",
    "plt.show()"
   ]
  },
  {
   "cell_type": "code",
   "execution_count": null,
   "metadata": {
    "collapsed": false
   },
   "outputs": [],
   "source": [
    "repository_06_df = repository_06(ownership_df, topics_df, topics_list, non_pe_teams_list)\n",
    "freq = repository_06_df['repository_06'].value_counts()\n",
    "freq.plot.pie(subplots=True, figsize=(5, 4), title='repository_06')"
   ]
  },
  {
   "cell_type": "markdown",
   "metadata": {},
   "source": [
    "Here, we merge the interim rule tables into one table, keyed on repository name, and write that information back to the database. \n",
    "\n",
    "### Please exercise extreme caution before modifying this section as we have not set up a local development environment yet."
   ]
  },
  {
   "cell_type": "code",
   "execution_count": null,
   "metadata": {},
   "outputs": [],
   "source": [
    "repository_rule_df =  repository_01_df.merge(repository_06_df, how='left', left_on='full_name', right_on='repo_name')[['full_name', 'repository_01', 'repository_06']]\n",
    "repository_rule_df.head()"
   ]
  },
  {
   "cell_type": "code",
   "execution_count": null,
   "metadata": {},
   "outputs": [],
   "source": [
    "repository_rule_df.to_sql('repocop_github_repository_rules', engine, if_exists='replace', index=False)\n",
    "pd.read_sql_query(\"select * from repocop_github_repository_rules\", con=conn).head()"
   ]
  }
 ],
 "metadata": {
  "kernelspec": {
   "display_name": "Python 3 (ipykernel)",
   "language": "python",
   "name": "python3"
  },
  "language_info": {
   "codemirror_mode": {
    "name": "ipython",
    "version": 3
   },
   "file_extension": ".py",
   "mimetype": "text/x-python",
   "name": "python",
   "nbconvert_exporter": "python",
   "pygments_lexer": "ipython3",
   "version": "3.11.4"
  },
  "orig_nbformat": 4
 },
 "nbformat": 4,
 "nbformat_minor": 2
}
