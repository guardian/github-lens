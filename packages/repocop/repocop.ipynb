{
 "cells": [
  {
   "cell_type": "markdown",
   "metadata": {},
   "source": [
    "This notebook is to run some exploratory work on the cloudquery database in a code-based (crucially, unit testable) way."
   ]
  },
  {
   "cell_type": "code",
   "execution_count": null,
   "metadata": {
    "collapsed": false
   },
   "outputs": [],
   "source": [
    "import boto3\n",
    "import psycopg2 as ps\n",
    "import json\n",
    "import sqlalchemy as sa\n",
    "import pandas as pd\n",
    "\n",
    "REGION=\"eu-west-1\"\n",
    "\n",
    "#gets the credentials from .aws/credentials\n",
    "session = boto3.Session(profile_name='deployTools')\n",
    "\n",
    "#get secret\n",
    "secret_client = session.client('secretsmanager', REGION)\n",
    "paginator = secret_client.get_paginator('list_secrets')\n",
    "\n",
    "response_iterator = paginator.paginate(\n",
    "    Filters=[\n",
    "        {\n",
    "            'Key': 'tag-value',\n",
    "            'Values': [\n",
    "                'cloud-query' #App\n",
    "            ]\n",
    "        }\n",
    "    ]\n",
    ")\n",
    "secret_arn = list(response_iterator)[0][\"SecretList\"][0]['ARN']\n",
    "secret = secret_client.get_secret_value(\n",
    "    SecretId=secret_arn\n",
    ")[\"SecretString\"]\n",
    "\n",
    "secret_json = json.loads(secret)"
   ]
  },
  {
   "cell_type": "code",
   "execution_count": null,
   "metadata": {},
   "outputs": [],
   "source": [
    "import sqlalchemy as sa\n",
    "\n",
    "import psycopg2 as ps\n",
    "import pandas as pd\n",
    "import boto3\n",
    "\n",
    "conn = ps.connect(\n",
    "    host=secret_json['host'],\n",
    "    port=secret_json['port'],\n",
    "    dbname='',\n",
    "    user=secret_json['username'],\n",
    "    password=secret_json['password'])\n",
    "\n",
    "engine = sa.create_engine('postgresql://', creator=lambda: conn)\n",
    "\n",
    "def select(table_name:str, columns: list[str], db_engine = engine) -> pd.DataFrame:\n",
    "    return pd.read_sql_table(table_name, con=db_engine, columns=columns)"
   ]
  },
  {
   "cell_type": "code",
   "execution_count": null,
   "metadata": {
    "collapsed": false
   },
   "outputs": [],
   "source": [
    "\n",
    "topics_df = select(\"guardian_production_status\", ['status', 'priority'])\n",
    "topics_list = topics_df['status'].tolist()\n",
    "print(topics_df['status'].tolist())"
   ]
  },
  {
   "cell_type": "code",
   "execution_count": null,
   "metadata": {
    "collapsed": false
   },
   "outputs": [],
   "source": [
    "\n",
    "non_pe_teams_list = select('guardian_non_p_and_e_github_teams', ['team_name'])['team_name'].tolist()\n",
    "topics_df = select(\"github_repositories\", ['full_name', 'topics'])\n",
    "teams_df = select('github_teams', ['name', 'slug'])\n",
    "#select function doesn't work on views, so we have to use read_sql_query\n",
    "ownership_df = pd.read_sql_query(\"select repo_name, github_team_name, github_team_id from view_repo_ownership\", con=conn)\n",
    "new_df = ownership_df.merge(teams_df, how='left', left_on='github_team_name', right_on='name')[['repo_name', 'github_team_name', 'slug']]\n"
   ]
  },
  {
   "cell_type": "code",
   "execution_count": null,
   "metadata": {
    "collapsed": false
   },
   "outputs": [],
   "source": [
    "from rules import repository_06\n",
    "topic_rule_df = repository_06(new_df, topics_df, topics_list, non_pe_teams_list)\n",
    "freq = topic_rule_df['repository_06'].value_counts()\n",
    "freq.plot.pie(subplots=True, figsize=(11, 6), title='Repo has an appropriate topic or is owned by a non-P&E team')"
   ]
  },
  {
   "cell_type": "code",
   "execution_count": null,
   "metadata": {},
   "outputs": [],
   "source": [
    "repos_01_df = select('github_repositories',['full_name', 'archived', 'default_branch']) #this includes archived repos. make a decision about this\n",
    "\n",
    "#create a new column that contains a boolean value for whether the default branch is called main\n",
    "repos_01_df['repository_01'] = repos_01_df['default_branch'] == 'main'\n",
    "repos_01_df =repos_01_df.drop(columns=['archived', 'default_branch'])\n",
    "repos_01_df\n"
   ]
  },
  {
   "cell_type": "code",
   "execution_count": null,
   "metadata": {},
   "outputs": [],
   "source": [
    "repository_rule_df =  repos_01_df.merge(topic_rule_df, how='left', left_on='full_name', right_on='repo_name')[['full_name', 'repository_01', 'repository_06']]\n",
    "repository_rule_df.to_sql('repocop_github_repository_rules', engine, if_exists='replace', index=False)\n",
    "repository_rule_df.head(10)"
   ]
  },
  {
   "cell_type": "code",
   "execution_count": null,
   "metadata": {},
   "outputs": [],
   "source": [
    "pd.read_sql_query(\"select * from repocop_github_repository_rules\", con=conn)"
   ]
  },
  {
   "cell_type": "code",
   "execution_count": null,
   "metadata": {
    "collapsed": false
   },
   "outputs": [],
   "source": [
    "freq = ownership_df['github_team_name'].value_counts()\n",
    "freq"
   ]
  },
  {
   "cell_type": "code",
   "execution_count": null,
   "metadata": {
    "collapsed": false
   },
   "outputs": [],
   "source": [
    "import matplotlib.pyplot as plt\n",
    "freq[:15].plot(kind='bar', title='Frequency Count of team name', xlabel='team name', ylabel='Count')\n",
    "plt.show()"
   ]
  },
  {
   "cell_type": "code",
   "execution_count": null,
   "metadata": {
    "ExecuteTime": {
     "end_time": "2023-08-11T10:36:46.337454Z",
     "start_time": "2023-08-11T10:36:45.763004Z"
    },
    "collapsed": false
   },
   "outputs": [],
   "source": [
    "\n",
    "topics_df = select(\"guardian_production_status\", ['status', 'priority'])\n",
    "topics_list = topics_df['status'].tolist()\n",
    "print(topics_df['status'].tolist())"
   ]
  },
  {
   "cell_type": "code",
   "execution_count": null,
   "metadata": {
    "ExecuteTime": {
     "end_time": "2023-08-11T10:39:26.289163Z",
     "start_time": "2023-08-11T10:39:24.626406Z"
    },
    "collapsed": false
   },
   "outputs": [],
   "source": [
    "\n",
    "non_pe_teams_list = select('guardian_non_p_and_e_github_teams', ['team_name'])['team_name'].tolist()\n",
    "topics_df = select(\"github_repositories\", ['full_name', 'topics'])\n",
    "teams_df = select('github_teams', ['name', 'slug'])\n",
    "#select function doesn't work on views, so we have to use read_sql_query\n",
    "ownership_df = pd.read_sql_query(\"select repo_name, github_team_name, github_team_id from view_repo_ownership\", con=conn)\n",
    "new_df = ownership_df.merge(teams_df, how='left', left_on='github_team_name', right_on='name')[['repo_name', 'github_team_name', 'slug']]\n"
   ]
  },
  {
   "cell_type": "code",
   "execution_count": null,
   "metadata": {
    "ExecuteTime": {
     "end_time": "2023-08-11T12:08:51.244915Z",
     "start_time": "2023-08-11T12:08:51.160215Z"
    },
    "collapsed": false
   },
   "outputs": [],
   "source": [
    "from rules import repository_06\n",
    "topic_rule_df = repository_06(new_df, topics_df, topics_list, non_pe_teams_list)\n",
    "freq = topic_rule_df['repository_06'].value_counts()\n",
    "freq.plot.pie(subplots=True, figsize=(11, 6), title='Repo has an appropriate topic or is owned by a non-P&E team')"
   ]
  },
  {
   "cell_type": "code",
   "execution_count": null,
   "metadata": {
    "ExecuteTime": {
     "end_time": "2023-08-11T09:06:46.858230Z",
     "start_time": "2023-08-11T09:06:46.838348Z"
    },
    "collapsed": false
   },
   "outputs": [],
   "source": [
    "freq = ownership_df['github_team_name'].value_counts()\n",
    "freq"
   ]
  },
  {
   "cell_type": "code",
   "execution_count": null,
   "metadata": {
    "ExecuteTime": {
     "end_time": "2023-08-11T09:06:50.250427Z",
     "start_time": "2023-08-11T09:06:50.158275Z"
    },
    "collapsed": false
   },
   "outputs": [],
   "source": [
    "import matplotlib.pyplot as plt\n",
    "freq[:15].plot(kind='bar', title='Frequency Count of team name', xlabel='team name', ylabel='Count')\n",
    "plt.show()"
   ]
  }
 ],
 "metadata": {
  "kernelspec": {
   "display_name": "Python 3 (ipykernel)",
   "language": "python",
   "name": "python3"
  },
  "language_info": {
   "codemirror_mode": {
    "name": "ipython",
    "version": 3
   },
   "file_extension": ".py",
   "mimetype": "text/x-python",
   "name": "python",
   "nbconvert_exporter": "python",
   "pygments_lexer": "ipython3",
   "version": "3.11.4"
  },
  "orig_nbformat": 4
 },
 "nbformat": 4,
 "nbformat_minor": 2
}
